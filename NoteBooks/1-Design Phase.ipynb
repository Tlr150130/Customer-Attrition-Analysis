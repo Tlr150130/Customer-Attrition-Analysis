{
 "cells": [
  {
   "cell_type": "markdown",
   "id": "61581cea-8e1a-4401-8d8b-88f20d4fb307",
   "metadata": {
    "tags": []
   },
   "source": [
    "# 1 - Design Phase"
   ]
  },
  {
   "cell_type": "code",
   "execution_count": 1,
   "id": "453cb4b7-20f6-497b-a118-683d08feddeb",
   "metadata": {},
   "outputs": [],
   "source": [
    "# Author information\n",
    "__author__ = \"Troy Reynolds\"\n",
    "__email__ = \"Troy.Lloyd.Reynolds@gmail.com\""
   ]
  },
  {
   "cell_type": "markdown",
   "id": "8fbc163e-dc19-4b54-8680-af769bf34404",
   "metadata": {
    "tags": []
   },
   "source": [
    "# Business Problem"
   ]
  },
  {
   "cell_type": "markdown",
   "id": "49be4f9b-f375-41b9-9f33-de14670f77f0",
   "metadata": {},
   "source": [
    "#### <u>Goal</u>: \n",
    "Create a churn model to identify clients that are likely to terminate services."
   ]
  },
  {
   "cell_type": "markdown",
   "id": "a85fa8a9-b7d2-416e-94a4-00c7715f3165",
   "metadata": {},
   "source": [
    "#### <u>Error Metric</u>: \n",
    "1. Accuracy if classes are balanced\n",
    "2. Recall if class are unbalanced\n",
    "\n",
    "**Assumption for Recall**: The opportunity loss from false negative outweighs the profit loss from a false positive\n",
    "\n",
    "**Reasoning**: The attrition of a false negative client eliminates all profits from the client while the promotions sent to a false positive client will reduce some profits."
   ]
  },
  {
   "cell_type": "markdown",
   "id": "d5a4228b-416a-489b-a73e-03d9d6c59ce2",
   "metadata": {},
   "source": [
    "#### <u>Baseline Model</u>: \n",
    "We will assume that no clients will terminate services and use that methodology as our baseline model."
   ]
  },
  {
   "cell_type": "markdown",
   "id": "a5e565d3-8351-4319-8b6c-991e3bb3e6f4",
   "metadata": {},
   "source": [
    "#### <u>Proposed Solutions</u>: \n",
    "1. Logistic Regression: Linearly seperating model\n",
    "2. KNN Model: Distance-based model\n",
    "3. Random Forest: Node purity based model\n",
    "4. Xgboost: Grandient boosted ensemble model"
   ]
  },
  {
   "cell_type": "markdown",
   "id": "51c14d20-689d-4115-b876-cc0ab66ac78b",
   "metadata": {},
   "source": [
    "# Split data into train/test data"
   ]
  },
  {
   "cell_type": "markdown",
   "id": "ad3f2e12-e309-413e-aad1-e52e70fa61d3",
   "metadata": {},
   "source": [
    "#### <u>Load Necessary Files</u>:"
   ]
  },
  {
   "cell_type": "code",
   "execution_count": 2,
   "id": "a77d1701-5bc1-43b2-8618-b12af58ad91e",
   "metadata": {},
   "outputs": [],
   "source": [
    "#### Libraries\n",
    "import pandas as pd\n",
    "import sys\n",
    "import os\n",
    "from sklearn.model_selection import train_test_split\n",
    "\n",
    "# Add data_storage and helper_functions to directory\n",
    "sys.path.insert(0, \"./data_storage\")\n",
    "sys.path.insert(0, \"./helper_functions\")\n",
    "\n",
    "from reporting import dataset_glimpse, clean_data_report"
   ]
  },
  {
   "cell_type": "markdown",
   "id": "f76c6ada-feb5-42d5-ac7f-aaa73706b8b9",
   "metadata": {},
   "source": [
    "#### <u>Load and Describe Data</u>:\n",
    "1. 3 ID Features (RowNumber, CustomerID, Surname)\n",
    "    - **Assumption**: The ID features do not aid in model prediction\n",
    "    - Surname may offer information for prediction, but may subject the model to profiling\n",
    "    \n",
    "2. 2 Categorical Features (Geography, Gender)\n",
    "3. 2 Binary Features (HasChckng, IsActiveMember)\n",
    "4. 6 Numeric Features (CreditScore, Age, Tenure, Balance, NumOfProducts, EstimatedSalary)\n",
    "5. Target Features is Binary"
   ]
  },
  {
   "cell_type": "code",
   "execution_count": 3,
   "id": "1c1ec4ab-3f4d-430d-90cf-0f26e51be624",
   "metadata": {},
   "outputs": [
    {
     "name": "stdout",
     "output_type": "stream",
     "text": [
      "*********************** Characteristics of Churn Dataset ***********************\n",
      "Dimensions of data: 10000 observations, 14 features\n",
      "\n",
      "**************************** Feature and data types ****************************\n",
      "RowNumber            int64\n",
      "CustomerId           int64\n",
      "Surname             object\n",
      "CreditScore        float64\n",
      "Geography           object\n",
      "Gender              object\n",
      "Age                  int64\n",
      "Tenure               int64\n",
      "Balance            float64\n",
      "NumOfProducts        int64\n",
      "HasChckng            int64\n",
      "IsActiveMember       int64\n",
      "EstimatedSalary    float64\n",
      "Exited               int64\n",
      "dtype: object\n",
      "\n",
      "***************************** First 6 Observations *****************************\n"
     ]
    },
    {
     "data": {
      "text/html": [
       "<div>\n",
       "<style scoped>\n",
       "    .dataframe tbody tr th:only-of-type {\n",
       "        vertical-align: middle;\n",
       "    }\n",
       "\n",
       "    .dataframe tbody tr th {\n",
       "        vertical-align: top;\n",
       "    }\n",
       "\n",
       "    .dataframe thead th {\n",
       "        text-align: right;\n",
       "    }\n",
       "</style>\n",
       "<table border=\"1\" class=\"dataframe\">\n",
       "  <thead>\n",
       "    <tr style=\"text-align: right;\">\n",
       "      <th></th>\n",
       "      <th>RowNumber</th>\n",
       "      <th>CustomerId</th>\n",
       "      <th>Surname</th>\n",
       "      <th>CreditScore</th>\n",
       "      <th>Geography</th>\n",
       "      <th>Gender</th>\n",
       "      <th>Age</th>\n",
       "      <th>Tenure</th>\n",
       "      <th>Balance</th>\n",
       "      <th>NumOfProducts</th>\n",
       "      <th>HasChckng</th>\n",
       "      <th>IsActiveMember</th>\n",
       "      <th>EstimatedSalary</th>\n",
       "      <th>Exited</th>\n",
       "    </tr>\n",
       "  </thead>\n",
       "  <tbody>\n",
       "    <tr>\n",
       "      <th>0</th>\n",
       "      <td>1</td>\n",
       "      <td>15634602</td>\n",
       "      <td>Hargrave</td>\n",
       "      <td>619.0</td>\n",
       "      <td>West</td>\n",
       "      <td>Female</td>\n",
       "      <td>42</td>\n",
       "      <td>2</td>\n",
       "      <td>0.00</td>\n",
       "      <td>1</td>\n",
       "      <td>1</td>\n",
       "      <td>1</td>\n",
       "      <td>101348.88</td>\n",
       "      <td>1</td>\n",
       "    </tr>\n",
       "    <tr>\n",
       "      <th>1</th>\n",
       "      <td>2</td>\n",
       "      <td>15647311</td>\n",
       "      <td>Hill</td>\n",
       "      <td>608.0</td>\n",
       "      <td>Central</td>\n",
       "      <td>Female</td>\n",
       "      <td>41</td>\n",
       "      <td>1</td>\n",
       "      <td>83807.86</td>\n",
       "      <td>1</td>\n",
       "      <td>0</td>\n",
       "      <td>1</td>\n",
       "      <td>112542.58</td>\n",
       "      <td>0</td>\n",
       "    </tr>\n",
       "    <tr>\n",
       "      <th>2</th>\n",
       "      <td>3</td>\n",
       "      <td>15619304</td>\n",
       "      <td>Onio</td>\n",
       "      <td>502.0</td>\n",
       "      <td>West</td>\n",
       "      <td>Female</td>\n",
       "      <td>42</td>\n",
       "      <td>8</td>\n",
       "      <td>159660.80</td>\n",
       "      <td>3</td>\n",
       "      <td>1</td>\n",
       "      <td>0</td>\n",
       "      <td>113931.57</td>\n",
       "      <td>1</td>\n",
       "    </tr>\n",
       "    <tr>\n",
       "      <th>3</th>\n",
       "      <td>4</td>\n",
       "      <td>15701354</td>\n",
       "      <td>Boni</td>\n",
       "      <td>699.0</td>\n",
       "      <td>West</td>\n",
       "      <td>Female</td>\n",
       "      <td>39</td>\n",
       "      <td>1</td>\n",
       "      <td>0.00</td>\n",
       "      <td>2</td>\n",
       "      <td>0</td>\n",
       "      <td>0</td>\n",
       "      <td>93826.63</td>\n",
       "      <td>0</td>\n",
       "    </tr>\n",
       "    <tr>\n",
       "      <th>4</th>\n",
       "      <td>5</td>\n",
       "      <td>15737888</td>\n",
       "      <td>Mitchell</td>\n",
       "      <td>850.0</td>\n",
       "      <td>Central</td>\n",
       "      <td>Female</td>\n",
       "      <td>43</td>\n",
       "      <td>2</td>\n",
       "      <td>125510.82</td>\n",
       "      <td>1</td>\n",
       "      <td>1</td>\n",
       "      <td>1</td>\n",
       "      <td>79084.10</td>\n",
       "      <td>0</td>\n",
       "    </tr>\n",
       "  </tbody>\n",
       "</table>\n",
       "</div>"
      ],
      "text/plain": [
       "   RowNumber  CustomerId   Surname  CreditScore Geography  Gender  Age  \\\n",
       "0          1    15634602  Hargrave        619.0      West  Female   42   \n",
       "1          2    15647311      Hill        608.0   Central  Female   41   \n",
       "2          3    15619304      Onio        502.0      West  Female   42   \n",
       "3          4    15701354      Boni        699.0      West  Female   39   \n",
       "4          5    15737888  Mitchell        850.0   Central  Female   43   \n",
       "\n",
       "   Tenure    Balance  NumOfProducts  HasChckng  IsActiveMember  \\\n",
       "0       2       0.00              1          1               1   \n",
       "1       1   83807.86              1          0               1   \n",
       "2       8  159660.80              3          1               0   \n",
       "3       1       0.00              2          0               0   \n",
       "4       2  125510.82              1          1               1   \n",
       "\n",
       "   EstimatedSalary  Exited  \n",
       "0        101348.88       1  \n",
       "1        112542.58       0  \n",
       "2        113931.57       1  \n",
       "3         93826.63       0  \n",
       "4         79084.10       0  "
      ]
     },
     "metadata": {},
     "output_type": "display_data"
    }
   ],
   "source": [
    "# Read in data (head, dtypes)\n",
    "data = pd.read_csv(\"data_storage/Churn Modeling.csv\")\n",
    "dataset_glimpse(data)"
   ]
  },
  {
   "cell_type": "markdown",
   "id": "88ead20a-820e-4028-b005-4256731afa3a",
   "metadata": {},
   "source": [
    "#### <u>Data Cleanliness Report</u>:\n",
    "The data is assessed on the understanding and expectation of the business logic of the features rather than data itself.\n",
    "\n",
    "NOTE: There are missing values for CreditScore."
   ]
  },
  {
   "cell_type": "code",
   "execution_count": 4,
   "id": "b16ef8a2-7220-4c79-824a-b8b997ba3d58",
   "metadata": {},
   "outputs": [
    {
     "name": "stdout",
     "output_type": "stream",
     "text": [
      "******************************** Missing Values ********************************\n",
      "Features           Missing Values\n",
      "CreditScore        3\n",
      "RowNumber          0\n",
      "CustomerId         0\n",
      "Surname            0\n",
      "Geography          0\n",
      "Gender             0\n",
      "Age                0\n",
      "Tenure             0\n",
      "Balance            0\n",
      "NumOfProducts      0\n",
      "HasChckng          0\n",
      "IsActiveMember     0\n",
      "EstimatedSalary    0\n",
      "Exited             0\n",
      "dtype: int64\n",
      "\n",
      "********************************** Duplicates **********************************\n",
      "There are no duplicates in the data.\n",
      "\n",
      "*************************** Businesss Logic Defiance ***************************\n",
      "Negative Value Assessment\n",
      "\n",
      "Feature            Negative Values\n",
      "RowNumber          0\n",
      "CustomerId         0\n",
      "CreditScore        0\n",
      "Age                0\n",
      "Tenure             0\n",
      "Balance            0\n",
      "NumOfProducts      0\n",
      "HasChckng          0\n",
      "IsActiveMember     0\n",
      "EstimatedSalary    0\n",
      "Exited             0\n",
      "dtype: int64\n",
      "\n",
      "Expected Binary Feature Evauation:\n",
      "\n",
      "Feature\t\tIs Binary?\n",
      "HaHasChckng:\tBinary\n",
      "IsActiveMember:\tBinary\n",
      "Exited:\t\tBinary\n"
     ]
    }
   ],
   "source": [
    "clean_data_report(data)"
   ]
  },
  {
   "cell_type": "markdown",
   "id": "a8c9164e-d54b-447b-a3d2-a4288b8e57a4",
   "metadata": {},
   "source": [
    "#### <u>Data Split</u>:\n",
    "The data will be split into training and testing sets at a ratio of 80/20. There will be no validation set since cross-validation will be performed."
   ]
  },
  {
   "cell_type": "code",
   "execution_count": 5,
   "id": "bb531700-c8ff-43bf-8146-0995ce911ce7",
   "metadata": {},
   "outputs": [
    {
     "name": "stdout",
     "output_type": "stream",
     "text": [
      "New dataset Dimensions: \n",
      "Train:  (8000, 14)\n",
      "Test:   (2000, 14)\n",
      "\n",
      "Dataset Saved\n"
     ]
    }
   ],
   "source": [
    "# Split data into train/test (80/20) , train_labels, test_labels\n",
    "train_data, test_data = train_test_split(\n",
    "    data, test_size = 0.2, random_state = 42, stratify = data[\"Exited\"]\n",
    ")\n",
    "\n",
    "# print dataset dimensions\n",
    "print(\"New dataset Dimensions: \")\n",
    "print(\"Train: \", train_data.shape)\n",
    "print(\"Test:  \", test_data.shape)\n",
    "\n",
    "# Save dataframes as .pkl file\n",
    "train_data.to_pickle(\"data_storage/train_data.pkl\")\n",
    "test_data.to_pickle(\"data_storage/test_data.pkl\")\n",
    "print(\"\\nDataset Saved\")"
   ]
  },
  {
   "cell_type": "code",
   "execution_count": null,
   "id": "cfa3fab3-1d3f-4362-bd44-7fd5b393d922",
   "metadata": {},
   "outputs": [],
   "source": []
  }
 ],
 "metadata": {
  "kernelspec": {
   "display_name": "Python 3 (ipykernel)",
   "language": "python",
   "name": "python3"
  },
  "language_info": {
   "codemirror_mode": {
    "name": "ipython",
    "version": 3
   },
   "file_extension": ".py",
   "mimetype": "text/x-python",
   "name": "python",
   "nbconvert_exporter": "python",
   "pygments_lexer": "ipython3",
   "version": "3.8.12"
  }
 },
 "nbformat": 4,
 "nbformat_minor": 5
}
