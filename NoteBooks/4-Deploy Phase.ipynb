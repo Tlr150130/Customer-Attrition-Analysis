{
 "cells": [
  {
   "cell_type": "markdown",
   "id": "c8be2bd0-a4d8-421c-ba36-50a7065518dc",
   "metadata": {},
   "source": [
    "# 4 - Deployment Phase"
   ]
  },
  {
   "cell_type": "code",
   "execution_count": 1,
   "id": "d772b874-c96f-4eca-86b3-e9af5891ce73",
   "metadata": {},
   "outputs": [],
   "source": [
    "# Author information\n",
    "__author__ = \"Troy Reynolds\"\n",
    "__email__ = \"Troy.Lloyd.Reynolds@gmail.com\""
   ]
  },
  {
   "cell_type": "code",
   "execution_count": 2,
   "id": "72ff5664-2637-4ac4-ae1a-a9e343908685",
   "metadata": {},
   "outputs": [],
   "source": [
    "## Libraries\n",
    "# standard packages\n",
    "import pandas as pd\n",
    "import sys\n",
    "\n",
    "# Add data_storage and helper_functions to directory\n",
    "sys.path.insert(0, \"./data_storage\")\n",
    "sys.path.insert(0, \"./helper_functions\")\n",
    "sys.path.insert(0, \"./model\")\n",
    "\n",
    "# import helper functions\n",
    "from file_management import data_import\n",
    "from deployment import deployment_pipeline, test_data_metrics"
   ]
  },
  {
   "cell_type": "markdown",
   "id": "19456df0-51c9-447b-9d7f-588e45591499",
   "metadata": {},
   "source": [
    "# Load Test Data"
   ]
  },
  {
   "cell_type": "code",
   "execution_count": 3,
   "id": "f8bfc744-0217-46b4-b8ab-49e1e5cd86bf",
   "metadata": {},
   "outputs": [
    {
     "data": {
      "text/html": [
       "<div>\n",
       "<style scoped>\n",
       "    .dataframe tbody tr th:only-of-type {\n",
       "        vertical-align: middle;\n",
       "    }\n",
       "\n",
       "    .dataframe tbody tr th {\n",
       "        vertical-align: top;\n",
       "    }\n",
       "\n",
       "    .dataframe thead th {\n",
       "        text-align: right;\n",
       "    }\n",
       "</style>\n",
       "<table border=\"1\" class=\"dataframe\">\n",
       "  <thead>\n",
       "    <tr style=\"text-align: right;\">\n",
       "      <th></th>\n",
       "      <th>RowNumber</th>\n",
       "      <th>CustomerId</th>\n",
       "      <th>Surname</th>\n",
       "      <th>CreditScore</th>\n",
       "      <th>Geography</th>\n",
       "      <th>Gender</th>\n",
       "      <th>Age</th>\n",
       "      <th>Tenure</th>\n",
       "      <th>Balance</th>\n",
       "      <th>NumOfProducts</th>\n",
       "      <th>HasChckng</th>\n",
       "      <th>IsActiveMember</th>\n",
       "      <th>EstimatedSalary</th>\n",
       "      <th>Exited</th>\n",
       "    </tr>\n",
       "  </thead>\n",
       "  <tbody>\n",
       "    <tr>\n",
       "      <th>5702</th>\n",
       "      <td>5703</td>\n",
       "      <td>15749540</td>\n",
       "      <td>Hsiung</td>\n",
       "      <td>585.0</td>\n",
       "      <td>West</td>\n",
       "      <td>Male</td>\n",
       "      <td>36</td>\n",
       "      <td>7</td>\n",
       "      <td>0.00</td>\n",
       "      <td>2</td>\n",
       "      <td>1</td>\n",
       "      <td>0</td>\n",
       "      <td>94283.09</td>\n",
       "      <td>0</td>\n",
       "    </tr>\n",
       "    <tr>\n",
       "      <th>3667</th>\n",
       "      <td>3668</td>\n",
       "      <td>15807340</td>\n",
       "      <td>O'Donnell</td>\n",
       "      <td>525.0</td>\n",
       "      <td>East</td>\n",
       "      <td>Male</td>\n",
       "      <td>33</td>\n",
       "      <td>4</td>\n",
       "      <td>131023.76</td>\n",
       "      <td>2</td>\n",
       "      <td>0</td>\n",
       "      <td>0</td>\n",
       "      <td>55072.93</td>\n",
       "      <td>0</td>\n",
       "    </tr>\n",
       "    <tr>\n",
       "      <th>1617</th>\n",
       "      <td>1618</td>\n",
       "      <td>15801062</td>\n",
       "      <td>Matthews</td>\n",
       "      <td>557.0</td>\n",
       "      <td>Central</td>\n",
       "      <td>Female</td>\n",
       "      <td>40</td>\n",
       "      <td>4</td>\n",
       "      <td>0.00</td>\n",
       "      <td>2</td>\n",
       "      <td>0</td>\n",
       "      <td>1</td>\n",
       "      <td>105433.53</td>\n",
       "      <td>0</td>\n",
       "    </tr>\n",
       "    <tr>\n",
       "      <th>5673</th>\n",
       "      <td>5674</td>\n",
       "      <td>15572801</td>\n",
       "      <td>Krischock</td>\n",
       "      <td>639.0</td>\n",
       "      <td>Central</td>\n",
       "      <td>Male</td>\n",
       "      <td>34</td>\n",
       "      <td>5</td>\n",
       "      <td>139393.19</td>\n",
       "      <td>2</td>\n",
       "      <td>0</td>\n",
       "      <td>0</td>\n",
       "      <td>33950.08</td>\n",
       "      <td>0</td>\n",
       "    </tr>\n",
       "    <tr>\n",
       "      <th>4272</th>\n",
       "      <td>4273</td>\n",
       "      <td>15600708</td>\n",
       "      <td>Calabresi</td>\n",
       "      <td>640.0</td>\n",
       "      <td>Central</td>\n",
       "      <td>Female</td>\n",
       "      <td>34</td>\n",
       "      <td>3</td>\n",
       "      <td>77826.80</td>\n",
       "      <td>1</td>\n",
       "      <td>1</td>\n",
       "      <td>1</td>\n",
       "      <td>168544.85</td>\n",
       "      <td>0</td>\n",
       "    </tr>\n",
       "  </tbody>\n",
       "</table>\n",
       "</div>"
      ],
      "text/plain": [
       "      RowNumber  CustomerId    Surname  CreditScore Geography  Gender  Age  \\\n",
       "5702       5703    15749540     Hsiung        585.0      West    Male   36   \n",
       "3667       3668    15807340  O'Donnell        525.0      East    Male   33   \n",
       "1617       1618    15801062   Matthews        557.0   Central  Female   40   \n",
       "5673       5674    15572801  Krischock        639.0   Central    Male   34   \n",
       "4272       4273    15600708  Calabresi        640.0   Central  Female   34   \n",
       "\n",
       "      Tenure    Balance  NumOfProducts  HasChckng  IsActiveMember  \\\n",
       "5702       7       0.00              2          1               0   \n",
       "3667       4  131023.76              2          0               0   \n",
       "1617       4       0.00              2          0               1   \n",
       "5673       5  139393.19              2          0               0   \n",
       "4272       3   77826.80              1          1               1   \n",
       "\n",
       "      EstimatedSalary  Exited  \n",
       "5702         94283.09       0  \n",
       "3667         55072.93       0  \n",
       "1617        105433.53       0  \n",
       "5673         33950.08       0  \n",
       "4272        168544.85       0  "
      ]
     },
     "execution_count": 3,
     "metadata": {},
     "output_type": "execute_result"
    }
   ],
   "source": [
    "# load in data\n",
    "test_data = data_import(\"test\")\n",
    "features = test_data.drop(\"Exited\", axis = 1)\n",
    "labels = test_data[\"Exited\"]\n",
    "test_data.head()"
   ]
  },
  {
   "cell_type": "markdown",
   "id": "643970f4-376f-425b-afb2-e7b943902f84",
   "metadata": {},
   "source": [
    "# Run test features through prediction pipeline\n",
    "The test features are processed using the pipeline created in the previous notebook. The processed features are run through the best model to get predictions based on the optimal threshold."
   ]
  },
  {
   "cell_type": "code",
   "execution_count": 4,
   "id": "597251d3-172d-4d51-9885-c00926e83e3d",
   "metadata": {},
   "outputs": [
    {
     "data": {
      "text/plain": [
       "[0, 0, 0, 0, 0, 1, 0, 0, 1, 0]"
      ]
     },
     "execution_count": 4,
     "metadata": {},
     "output_type": "execute_result"
    }
   ],
   "source": [
    "#### Get predictions\n",
    "predictions = deployment_pipeline(features, threshold = 0.2)\n",
    "predictions[:10]"
   ]
  },
  {
   "cell_type": "markdown",
   "id": "882711ba-69a5-42fb-98b8-2f827c42f269",
   "metadata": {},
   "source": [
    "# Results on test data"
   ]
  },
  {
   "cell_type": "code",
   "execution_count": 5,
   "id": "1ca5ee6e-d551-4375-82d1-7fb263b4aea0",
   "metadata": {},
   "outputs": [
    {
     "name": "stdout",
     "output_type": "stream",
     "text": [
      "\n",
      "****************************** Test Data Metrics *******************************\n",
      "Accuracy:\t0.779\n",
      "Precision:\t0.4740740740740741\n",
      "Recall:\t\t0.7862407862407862\n"
     ]
    }
   ],
   "source": [
    "test_data_metrics(labels, predictions)"
   ]
  },
  {
   "cell_type": "markdown",
   "id": "55a2d505-f878-4088-9fea-3da8accb2ab3",
   "metadata": {},
   "source": [
    "# GUI Prototyping"
   ]
  },
  {
   "cell_type": "code",
   "execution_count": 6,
   "id": "d743297f-d65d-4e38-b935-1e16d50f388b",
   "metadata": {},
   "outputs": [
    {
     "name": "stderr",
     "output_type": "stream",
     "text": [
      "Enabling notebook extension jupyter-js-widgets/extension...\n",
      "      - Validating: ok\n"
     ]
    }
   ],
   "source": [
    "# enable widgest\n",
    "!jupyter nbextension enable --py widgetsnbextension"
   ]
  },
  {
   "cell_type": "code",
   "execution_count": 7,
   "id": "d9613190-6dad-47df-ab17-015844ad7caf",
   "metadata": {},
   "outputs": [],
   "source": [
    "### Libraries\n",
    "import ipywidgets as widgets\n",
    "from IPython.display import display, clear_output"
   ]
  },
  {
   "cell_type": "markdown",
   "id": "3664e7a9-2ceb-4bed-acd5-ef5f746e9e18",
   "metadata": {
    "jp-MarkdownHeadingCollapsed": true,
    "tags": []
   },
   "source": [
    "### Background Operations and functions"
   ]
  },
  {
   "cell_type": "markdown",
   "id": "960aa01f-d0c9-4099-88ed-dcac8690c790",
   "metadata": {
    "tags": []
   },
   "source": [
    "#### Get data"
   ]
  },
  {
   "cell_type": "code",
   "execution_count": 8,
   "id": "e0f1ce48-bbc6-402f-bbc3-2fdac2b64799",
   "metadata": {},
   "outputs": [],
   "source": [
    "train_data = data_import(\"train\")"
   ]
  },
  {
   "cell_type": "markdown",
   "id": "bba864aa-cdfa-4b1f-8e86-2983cb4d9134",
   "metadata": {
    "tags": []
   },
   "source": [
    "#### Widget Creation"
   ]
  },
  {
   "cell_type": "code",
   "execution_count": 9,
   "id": "07b26ef6-3b61-48c2-9def-4e779894f3fc",
   "metadata": {},
   "outputs": [],
   "source": [
    "### TextBoxes\n",
    "input_CreditScore = widgets.BoundedIntText(\n",
    "    value=650,\n",
    "    min=train_data.CreditScore.min(),\n",
    "    max=train_data.CreditScore.max(),\n",
    "    step=1,\n",
    "    description='Credit Score:',\n",
    "    disabled=False\n",
    ")\n",
    "input_Balance = widgets.BoundedIntText(\n",
    "    value=0,\n",
    "    min=train_data.Balance.min(),\n",
    "    max=train_data.Balance.max(),\n",
    "    step=1,\n",
    "    description='Balance:',\n",
    "    disabled=False\n",
    ")\n",
    "input_EstimatedSalary = widgets.BoundedIntText(\n",
    "    value=0,\n",
    "    min=train_data.EstimatedSalary.min(),\n",
    "    max=train_data.EstimatedSalary.max(),\n",
    "    step=1,\n",
    "    description='Salary:',\n",
    "    disabled=False\n",
    ")\n",
    "\n",
    "### Sliders\n",
    "input_age = widgets.IntSlider(\n",
    "    min = train_data.Age.min(),\n",
    "    max = train_data.Age.max(),\n",
    "    step = 1,\n",
    "    description = \"Age: \",\n",
    "    value = 50\n",
    ")\n",
    "input_tenure = widgets.IntSlider(\n",
    "    min = train_data.Tenure.min(),\n",
    "    max = train_data.Tenure.max(),\n",
    "    step = 1,\n",
    "    description = \"Tenure: \",\n",
    "    value = 50\n",
    ")\n",
    "\n",
    "### Dropdowns\n",
    "# function to get dropdowns\n",
    "def unique_sorted_values(array):\n",
    "    unique = array.unique().tolist()\n",
    "    unique.sort()\n",
    "    return unique\n",
    "\n",
    "# widgets\n",
    "input_geography = widgets.Dropdown(\n",
    "    options = unique_sorted_values(train_data.Geography),\n",
    "    description = 'Location:'\n",
    ")\n",
    "input_gender = widgets.Dropdown(\n",
    "    options = unique_sorted_values(train_data.Gender),\n",
    "    description = 'Gender:'\n",
    ")\n",
    "input_numproducts = widgets.Dropdown(\n",
    "    options = unique_sorted_values(train_data.NumOfProducts),\n",
    "    description = '# Products:'\n",
    ")\n",
    "\n",
    "### Checkboxes\n",
    "input_hasChecking = widgets.Checkbox(\n",
    "    value=False,\n",
    "    description='Has Checking',\n",
    "    disabled=False,\n",
    "    indent=True\n",
    ")\n",
    "\n",
    "input_Active = widgets.Checkbox(\n",
    "    value=False,\n",
    "    description='Active User',\n",
    "    disabled=False,\n",
    "    indent=True\n",
    ")"
   ]
  },
  {
   "cell_type": "code",
   "execution_count": 10,
   "id": "10629c3a-cd04-41ca-abd1-79918aff37eb",
   "metadata": {},
   "outputs": [],
   "source": [
    "### Horizontal stacking widgets\n",
    "input_textbox = widgets.HBox([input_CreditScore, input_Balance, input_EstimatedSalary])\n",
    "input_slider = widgets.HBox([input_age, input_tenure])\n",
    "input_dropdown = widgets.HBox([input_geography, input_gender, input_numproducts])\n",
    "input_checkbox = widgets.HBox([input_hasChecking, input_Active])\n",
    "\n",
    "### Vertical stacking\n",
    "dashboard = widgets.VBox([input_textbox, input_slider, input_dropdown, input_checkbox])"
   ]
  },
  {
   "cell_type": "markdown",
   "id": "4419f22e-b01d-4445-9ba6-a44e1d5374a0",
   "metadata": {
    "tags": []
   },
   "source": [
    "#### Collect input data"
   ]
  },
  {
   "cell_type": "code",
   "execution_count": 11,
   "id": "37eacb95-2eaa-48d4-825c-a1b20cac8827",
   "metadata": {},
   "outputs": [],
   "source": [
    "# create button\n",
    "button = widgets.Button(description='Predict!')\n",
    "out = widgets.Output()\n",
    "\n",
    "def btn_event_handler(obj):\n",
    "    with out:\n",
    "        clear_output()\n",
    "        \n",
    "        # gather data\n",
    "        input_data = pd.DataFrame({\n",
    "            \"RowNumber\": 1,\n",
    "            \"CustomerId\": 1,\n",
    "            \"Surname\": \"Doe\", #id\n",
    "            \"CreditScore\": float(input_CreditScore.value),\n",
    "            \"Balance\": float(input_Balance.value),\n",
    "            \"EstimatedSalary\": float(input_EstimatedSalary.value),\n",
    "            \"Age\": float(input_age.value),\n",
    "            \"Tenure\": float(input_tenure.value),\n",
    "            \"Geography\": input_geography.value,\n",
    "            \"Gender\": input_gender.value,\n",
    "            \"NumOfProducts\": int(input_numproducts.value),\n",
    "            \"HasChckng\": int(input_hasChecking.value),\n",
    "            \"IsActiveMember\": int(input_Active.value)}, index = [1])\n",
    "        \n",
    "        # make prediction\n",
    "        prediction = deployment_pipeline(input_data, threshold = 0.2)\n",
    "        \n",
    "        # output\n",
    "        if prediction[0] == 1:\n",
    "            print(\"\\nThe client is likely to churn.\")\n",
    "        \n",
    "        else:\n",
    "            print(\"\\nThe client is unlikely to churn.\")\n",
    "    \n",
    "button.on_click(btn_event_handler)"
   ]
  },
  {
   "cell_type": "markdown",
   "id": "572f4556-29aa-4792-9f1b-db494bf03559",
   "metadata": {},
   "source": [
    "### Data Input Dashboard"
   ]
  },
  {
   "cell_type": "code",
   "execution_count": 12,
   "id": "551934f3-abcb-4d3d-bd2e-deaf3caa5d9f",
   "metadata": {},
   "outputs": [
    {
     "data": {
      "application/vnd.jupyter.widget-view+json": {
       "model_id": "65aad16c18f44c0489ac7d371c5fdb15",
       "version_major": 2,
       "version_minor": 0
      },
      "text/plain": [
       "VBox(children=(HBox(children=(BoundedIntText(value=650, description='Credit Score:', max=850, min=305), Bounde…"
      ]
     },
     "metadata": {},
     "output_type": "display_data"
    }
   ],
   "source": [
    "display(dashboard)"
   ]
  },
  {
   "cell_type": "markdown",
   "id": "91f6bcc0-e493-40be-b537-0d2d8a8a2040",
   "metadata": {},
   "source": [
    "#### Prediction of new client"
   ]
  },
  {
   "cell_type": "code",
   "execution_count": 13,
   "id": "20b485af-7ace-41f8-a0c7-4e52b151ef46",
   "metadata": {},
   "outputs": [
    {
     "data": {
      "application/vnd.jupyter.widget-view+json": {
       "model_id": "9657efd301144cb79e67505db45b9bf2",
       "version_major": 2,
       "version_minor": 0
      },
      "text/plain": [
       "VBox(children=(Button(description='Predict!', style=ButtonStyle()), Output()))"
      ]
     },
     "metadata": {},
     "output_type": "display_data"
    }
   ],
   "source": [
    "display(widgets.VBox([button, out]))"
   ]
  }
 ],
 "metadata": {
  "kernelspec": {
   "display_name": "Python 3 (ipykernel)",
   "language": "python",
   "name": "python3"
  },
  "language_info": {
   "codemirror_mode": {
    "name": "ipython",
    "version": 3
   },
   "file_extension": ".py",
   "mimetype": "text/x-python",
   "name": "python",
   "nbconvert_exporter": "python",
   "pygments_lexer": "ipython3",
   "version": "3.8.12"
  }
 },
 "nbformat": 4,
 "nbformat_minor": 5
}
